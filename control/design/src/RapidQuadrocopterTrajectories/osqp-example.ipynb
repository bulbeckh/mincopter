{
 "cells": [
  {
   "cell_type": "code",
   "execution_count": 3,
   "id": "efb5ec4c-088b-4132-a999-0338487dda66",
   "metadata": {},
   "outputs": [
    {
     "name": "stdout",
     "output_type": "stream",
     "text": [
      "osqp                      1.0.3\n"
     ]
    }
   ],
   "source": [
    "!pip list installed | grep osqp"
   ]
  },
  {
   "cell_type": "markdown",
   "id": "4f327b04-547d-4cfd-83f8-ea16465b0100",
   "metadata": {},
   "source": [
    "## OSQP Example 1\n",
    "\n",
    "$$\n",
    "\\frac{1}{2}x^{T}\n",
    "\\begin{bmatrix}\n",
    "4 & 1 \\\\\n",
    "1 & 2 \\\\\n",
    "\\end{bmatrix}\n",
    "x +\n",
    "\\begin{bmatrix}\n",
    "1 \\\\\n",
    "1\n",
    "\\end{bmatrix}^{T}\n",
    "x $$\n",
    "$$\n",
    "\\begin{bmatrix}\n",
    "1 \\\\\n",
    "0 \\\\\n",
    "0\n",
    "\\end{bmatrix}\n",
    "\\leq\n",
    "\\begin{bmatrix}\n",
    "1 & 1 \\\\\n",
    "1 & 0 \\\\\n",
    "0 & 1 \\\\\n",
    "\\end{bmatrix}x\n",
    "\\leq\n",
    "\\begin{bmatrix}\n",
    "1 \\\\\n",
    "0.7 \\\\\n",
    "0.7\n",
    "\\end{bmatrix}\n",
    "$$"
   ]
  },
  {
   "cell_type": "code",
   "execution_count": 8,
   "id": "e3262b3d-b779-4cb1-9004-00e3ec08ffa4",
   "metadata": {},
   "outputs": [
    {
     "name": "stdout",
     "output_type": "stream",
     "text": [
      "-----------------------------------------------------------------\n",
      "           OSQP v1.0.0  -  Operator Splitting QP Solver\n",
      "              (c) The OSQP Developer Team\n",
      "-----------------------------------------------------------------\n",
      "problem:  variables n = 2, constraints m = 3\n",
      "          nnz(P) + nnz(A) = 7\n",
      "settings: algebra = Built-in,\n",
      "          OSQPInt = 4 bytes, OSQPFloat = 8 bytes,\n",
      "          linear system solver = QDLDL v0.1.8,\n",
      "          eps_abs = 1.0e-03, eps_rel = 1.0e-03,\n",
      "          eps_prim_inf = 1.0e-04, eps_dual_inf = 1.0e-04,\n",
      "          rho = 1.00e-01 (adaptive: 50 iterations),\n",
      "          sigma = 1.00e-06, alpha = 1.00, max_iter = 4000\n",
      "          check_termination: on (interval 25, duality gap: on),\n",
      "          time_limit: 1.00e+10 sec,\n",
      "          scaling: on (10 iterations), scaled_termination: off\n",
      "          warm starting: on, polishing: off, \n",
      "iter   objective    prim res   dual res   gap        rel kkt    rho         time\n",
      "   1  -4.9384e-03   1.00e+00   2.00e+02  -2.01e+02   2.00e+02   1.00e-01    2.33e-04s\n",
      "  50   1.8798e+00   1.23e-03   2.46e-05  -2.50e-04   1.23e-03   1.00e-01    2.70e-04s\n",
      "\n",
      "status:               solved\n",
      "number of iterations: 50\n",
      "optimal objective:    1.8798\n",
      "dual objective:       1.8800\n",
      "duality gap:          -2.4960e-04\n",
      "primal-dual integral: 2.0073e+02\n",
      "run time:             2.96e-04s\n",
      "optimal rho estimate: 1.38e+00\n",
      "\n"
     ]
    }
   ],
   "source": [
    "import osqp\n",
    "import numpy as np\n",
    "from scipy import sparse\n",
    "\n",
    "# Define problem data\n",
    "P = sparse.csc_matrix([[4, 1], [1, 2]])\n",
    "q = np.array([1, 1])\n",
    "A = sparse.csc_matrix([[1, 1], [1, 0], [0, 1]])\n",
    "l = np.array([1, 0, 0])\n",
    "u = np.array([1, 0.7, 0.7])\n",
    "\n",
    "# Create an OSQP object\n",
    "prob = osqp.OSQP()\n",
    "\n",
    "# Setup workspace and change alpha parameter\n",
    "prob.setup(P, q, A, l, u, alpha=1.0)\n",
    "\n",
    "# Solve problem\n",
    "res = prob.solve()"
   ]
  },
  {
   "cell_type": "code",
   "execution_count": null,
   "id": "a2d27601-eae3-41a8-9176-35821b87874e",
   "metadata": {},
   "outputs": [],
   "source": []
  }
 ],
 "metadata": {
  "kernelspec": {
   "display_name": "Python 3 (ipykernel)",
   "language": "python",
   "name": "python3"
  },
  "language_info": {
   "codemirror_mode": {
    "name": "ipython",
    "version": 3
   },
   "file_extension": ".py",
   "mimetype": "text/x-python",
   "name": "python",
   "nbconvert_exporter": "python",
   "pygments_lexer": "ipython3",
   "version": "3.12.3"
  }
 },
 "nbformat": 4,
 "nbformat_minor": 5
}
