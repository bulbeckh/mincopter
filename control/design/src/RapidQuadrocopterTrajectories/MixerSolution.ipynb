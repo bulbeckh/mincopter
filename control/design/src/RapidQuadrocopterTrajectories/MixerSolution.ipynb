{
 "cells": [
  {
   "cell_type": "code",
   "execution_count": 3,
   "id": "c7eef55e-3936-4c3b-a480-27b234511b28",
   "metadata": {},
   "outputs": [
    {
     "name": "stderr",
     "output_type": "stream",
     "text": [
      "/home/henry/venv-ardupilot/lib/python3.12/site-packages/matplotlib/projections/__init__.py:63: UserWarning: Unable to import Axes3D. This may be due to multiple versions of Matplotlib being installed (e.g. as a system package and as a pip package). As a result, the 3D projection is not available.\n",
      "  warnings.warn(\"Unable to import Axes3D. This may be due to multiple versions of \"\n"
     ]
    }
   ],
   "source": [
    "import numpy as np\n",
    "import math\n",
    "from matplotlib import pyplot as plt\n",
    "import matplotlib.gridspec as gridspec"
   ]
  },
  {
   "cell_type": "markdown",
   "id": "05f8c601-f984-49f4-bc2a-95a4b8c56985",
   "metadata": {},
   "source": [
    "### Configuration of Motor Allocation Matrix\n",
    "\n",
    "$$ \\begin{bmatrix}\n",
    "T \\\\\n",
    "T_{\\phi} \\\\\n",
    "T_{\\theta} \\\\\n",
    "T_{\\psi}\n",
    "\\end{bmatrix} =\n",
    "\\begin{bmatrix}\n",
    "k_{t} & k_{t} & k_{t} & k_{t} \\\\\n",
    "L\\cos{\\beta}k_{t} & L\\cos{\\beta}k_{t} & L\\cos{\\beta}k_{t} & L\\cos{\\beta}k_{t} \\\\\n",
    "L\\sin{\\beta}k_{t} & L\\sin{\\beta}k_{t} & L\\sin{\\beta}k_{t} & L\\sin{\\beta}k_{t} \\\\\n",
    "k_{w} & k_{w} & -k_{w} & -k_{w}\n",
    "\\end{bmatrix}\n",
    "\\begin{bmatrix}\n",
    "\\omega^{2}_{0} \\\\\n",
    "\\omega^{2}_{1} \\\\\n",
    "\\omega^{2}_{2} \\\\\n",
    "\\omega^{2}_{3} \\\\\n",
    "\\end{bmatrix}\n",
    "$$\n",
    "Or equivalent with lengths and signs\n",
    "$$ \\begin{bmatrix}\n",
    "T \\\\\n",
    "T_{\\phi} \\\\\n",
    "T_{\\theta} \\\\\n",
    "T_{\\psi}\n",
    "\\end{bmatrix} =\n",
    "\\begin{bmatrix}\n",
    "k_{t} & k_{t} & k_{t} & k_{t} \\\\\n",
    "-L_{y}k_{t} & L_{y}k_{t} & -L_{y}k_{t} & L_{y}k_{t} \\\\\n",
    "L_{x}k_{t} & -L_{x}k_{t} & -L_{x}k_{t} & L_{x}k_{t} \\\\\n",
    "k_{w} & k_{w} & -k_{w} & -k_{w}\n",
    "\\end{bmatrix}\n",
    "\\begin{bmatrix}\n",
    "\\omega^{2}_{0} \\\\\n",
    "\\omega^{2}_{1} \\\\\n",
    "\\omega^{2}_{2} \\\\\n",
    "\\omega^{2}_{3} \\\\\n",
    "\\end{bmatrix}\n",
    "$$\n",
    "\n",
    "This assumes NED-body frame with $\\beta$ increasing from the positive y-axis (where $\\beta=0$) to the positive x-axis\n",
    "\n",
    "### Assumptions\n",
    "Standard model of thrust:\n",
    "$$F_{i}=k_{t}\\omega^{2}$$\n",
    "\n",
    "$$k_{t}=\\frac{1}{4\\omega^{2}}m(a+g)$$\n",
    "With $k_{t}$=2.05e-6, for hover thrust (a=0), we need the following rotor speed\n",
    "\n",
    "### Torque Limits\n",
    "We limit our roll and pitch torques between"
   ]
  },
  {
   "cell_type": "code",
   "execution_count": 4,
   "id": "06559f1d-a172-425e-b884-643eb794ace9",
   "metadata": {},
   "outputs": [],
   "source": [
    "m = 1  # kg\n",
    "g = 9.8  # m/s^2\n",
    "Ix, Iy, Iz = 0.11, 0.11, 0.04  # kg m^2\n",
    "l = 0.2  # m (this drops out when controlling via torques)"
   ]
  },
  {
   "cell_type": "code",
   "execution_count": 5,
   "id": "715b3c83-bc40-498f-8b31-fe1b2aab7b10",
   "metadata": {},
   "outputs": [
    {
     "name": "stdout",
     "output_type": "stream",
     "text": [
      "RAD 0.9944211062037129\n",
      "DEG 56.97613244420336\n"
     ]
    }
   ],
   "source": [
    "l = math.sqrt(0.13*0.13+0.2*0.2)\n",
    "ang_rad = math.atan(0.2/0.13)\n",
    "print(\"RAD\",ang_rad)\n",
    "print(\"DEG\",ang_rad*180/math.pi)"
   ]
  },
  {
   "cell_type": "code",
   "execution_count": 15,
   "id": "54385e7c-20b8-46b1-b0b1-9e9c1ba0f5cf",
   "metadata": {},
   "outputs": [
    {
     "name": "stdout",
     "output_type": "stream",
     "text": [
      "[[  121951.2195122   -938086.30393996   609756.09756098  6097560.97560975]\n",
      " [  121951.2195122    938086.30393996  -609756.09756098  6097560.97560976]\n",
      " [  121951.2195122   -938086.30393996  -609756.09756098 -6097560.97560975]\n",
      " [  121951.2195122    938086.30393996   609756.09756098 -6097560.97560976]]\n"
     ]
    }
   ],
   "source": [
    "m=2.23\n",
    "g=9.8\n",
    "ylen = 0.13\n",
    "xlen = 0.2\n",
    "kt = 2.05e-6\n",
    "km = 0.02*kt\n",
    "preinv = np.array([[kt, kt, kt, kt],\n",
    "                  [-ylen*kt, ylen*kt, -ylen*kt, ylen*kt],\n",
    "                  [xlen*kt, -xlen*kt, -xlen*kt, xlen*kt],\n",
    "                  [km, km, -km, -km]])\n",
    "\n",
    "allocation = np.linalg.pinv(preinv)\n",
    "print(allocation)"
   ]
  },
  {
   "cell_type": "code",
   "execution_count": 16,
   "id": "6598e387-8bb8-4dd9-8f9c-859ca7e87eb4",
   "metadata": {},
   "outputs": [
    {
     "name": "stdout",
     "output_type": "stream",
     "text": [
      "0.063068578\n"
     ]
    }
   ],
   "source": [
    "## According to gazebo sim, max RPM is 838 which is ~87.7 rad/s\n",
    "\n",
    "## With a kt of 1.5e-6, that gives a max force of\n",
    "F_max = kt*(87.7*87.7)\n",
    "print(F_max*4)"
   ]
  },
  {
   "cell_type": "markdown",
   "id": "0e7a50d4-f6f6-4e66-9c52-074a9a4194a5",
   "metadata": {},
   "source": [
    "### Estimating $k_{t}$\n",
    "In simulation, we observe an acceleration of 3.5m/s2 with all four motors at a speed of 1900 rad/s and with a mass of 2.23kg. Hovering occurs at $a=0$ for which we can compute the required rotor speed $\\omega$\n",
    "$$\\omega=\\sqrt{\\frac{1}{4k_{t}}m(a+g)}$$"
   ]
  },
  {
   "cell_type": "code",
   "execution_count": 17,
   "id": "d9a9ffe9-dc6a-4002-b213-fe34bbece856",
   "metadata": {},
   "outputs": [
    {
     "name": "stdout",
     "output_type": "stream",
     "text": [
      "Estimated kt: 2.0539473684210527e-06\n"
     ]
    }
   ],
   "source": [
    "## In order to try and identify the maximum thrust generated with a max PWM signal (1900), we set all outputs to 1900PWM\n",
    "\n",
    "zvel_delta = 1.75\n",
    "sec_delta = 0.5\n",
    "accel_est = zvel_delta/sec_delta\n",
    "mass=2.23 ## including gimbal\n",
    "PWM=1900\n",
    "\n",
    "kt_est = 0.25*(1/(PWM*PWM))*mass*(9.8+3.5)\n",
    "print(f'Estimated kt: {kt_est}')"
   ]
  },
  {
   "cell_type": "code",
   "execution_count": 18,
   "id": "ba1d6493-c4a9-4687-8b83-f1948d786f8c",
   "metadata": {},
   "outputs": [
    {
     "name": "stdout",
     "output_type": "stream",
     "text": [
      "1630.9506430300091\n"
     ]
    }
   ],
   "source": [
    "hover_w = math.sqrt((1/(4*kt_est))*mass*(0+g))\n",
    "print(hover_w)"
   ]
  },
  {
   "cell_type": "code",
   "execution_count": 19,
   "id": "f9291791-4909-4f81-9cdb-8e3f5f0d01ee",
   "metadata": {},
   "outputs": [
    {
     "data": {
      "image/png": "[encoded data removed]",
      "text/plain": [
       "<Figure size 640x480 with 1 Axes>"
      ]
     },
     "metadata": {},
     "output_type": "display_data"
    }
   ],
   "source": [
    "## Graph of rotor speed and acceleration\n",
    "\n",
    "x = [i for i in range(1600,1900)]\n",
    "y = [max(0,4*kt_est*i*i*(1/mass)-9.8) for i in range(1600,1900)]\n",
    "plt.plot(x,y, label=('accel'))\n",
    "plt.grid(True)\n",
    "plt.title('Rotor Speed vs Accel (m/s2 - zaxis)')\n",
    "plt.vlines(hover_w,0,4, color='red', linestyle='--')\n",
    "plt.plot([hover_w,1900],[0,3.5], label='linear reference')\n",
    "plt.legend()\n",
    "plt.show()"
   ]
  },
  {
   "cell_type": "markdown",
   "id": "97c15dbe-8931-4032-a7e2-a475ce25ae48",
   "metadata": {},
   "source": [
    "### Allocation matrix scenarios\n",
    "Different motor/rotor speeds for certain scenarios\n",
    "\n",
    "$$\n",
    "\\begin{bmatrix}\n",
    "\\omega^{2}_{0} \\\\\n",
    "\\omega^{2}_{1} \\\\\n",
    "\\omega^{2}_{2} \\\\\n",
    "\\omega^{2}_{3} \\\\\n",
    "\\end{bmatrix} =\n",
    "T_\\text{Allocation}^{-1}\n",
    "\\begin{bmatrix}\n",
    "T \\\\\n",
    "T_{\\phi} \\\\\n",
    "T_{\\theta} \\\\\n",
    "T_{\\psi}\n",
    "\\end{bmatrix}\n",
    "$$\n"
   ]
  },
  {
   "cell_type": "code",
   "execution_count": 1,
   "id": "1c1964ee-995b-4486-b3d2-dd711481bce8",
   "metadata": {},
   "outputs": [
    {
     "ename": "NameError",
     "evalue": "name 'plt' is not defined",
     "output_type": "error",
     "traceback": [
      "\u001b[31m---------------------------------------------------------------------------\u001b[39m",
      "\u001b[31mNameError\u001b[39m                                 Traceback (most recent call last)",
      "\u001b[36mCell\u001b[39m\u001b[36m \u001b[39m\u001b[32mIn[1]\u001b[39m\u001b[32m, line 1\u001b[39m\n\u001b[32m----> \u001b[39m\u001b[32m1\u001b[39m fig = \u001b[43mplt\u001b[49m.figure(figsize=(\u001b[32m16\u001b[39m,\u001b[32m8\u001b[39m))\n\u001b[32m      2\u001b[39m gs = gridspec.GridSpec(\u001b[32m4\u001b[39m,\u001b[32m1\u001b[39m, figure=fig)\n\u001b[32m      4\u001b[39m \u001b[38;5;66;03m## Scenario 1 - Thrust from 0 to mg to 25N\u001b[39;00m\n",
      "\u001b[31mNameError\u001b[39m: name 'plt' is not defined"
     ]
    }
   ],
   "source": [
    "fig = plt.figure(figsize=(16,8))\n",
    "gs = gridspec.GridSpec(4,1, figure=fig)\n",
    "\n",
    "## Scenario 1 - Thrust from 0 to mg to 25N\n",
    "ctl = np.array([1, 0, 0, 0]).reshape((4,1))@np.linspace(0,25,100).reshape((1,100))\n",
    "out = allocation@ctl\n",
    "\n",
    "ax = fig.add_subplot(gs[0,0])\n",
    "ax.plot(list(range(0,100)), np.vectorize(lambda x: math.sqrt(x))(out[:][0]), color='red', linestyle='--', label=r'$\\omega_{0}$')\n",
    "ax.plot(list(range(0,100)), np.vectorize(lambda x: math.sqrt(x))(out[:][1]), color='green', linestyle='--', label=r'$\\omega_{1}$')\n",
    "ax.plot(list(range(0,100)), np.vectorize(lambda x: math.sqrt(x))(out[:][2]), color='orange', linestyle='--', label=r'$\\omega_{2}$')\n",
    "ax.plot(list(range(0,100)), np.vectorize(lambda x: math.sqrt(x))(out[:][3]), color='blue', linestyle='--', label=r'$\\omega_{3}$')\n",
    "ax.set_title(f'Total Thrust (N)')\n",
    "ax.legend()\n",
    "ax.grid(True)\n",
    "\n",
    "## Scenario 2 - Roll Torque from [-1.475, 1.475] with mg thrust (hover)\n",
    "ctl = np.array([0, 1, 0, 0]).reshape((4,1))@np.linspace(-1.475,1.475,100).reshape((1,100))\n",
    "ctl[0,:] = mass*9.8\n",
    "out = allocation@ctl\n",
    "\n",
    "ax = fig.add_subplot(gs[1,0])\n",
    "ax.plot(list(range(0,100)), np.vectorize(lambda x: math.sqrt(x))(out[:][0]), color='red', linestyle='--', label=r'$\\omega_{0}$')\n",
    "ax.plot(list(range(0,100)), np.vectorize(lambda x: math.sqrt(x))(out[:][1]), color='green', linestyle='dashdot', label=r'$\\omega_{1}$')\n",
    "ax.plot(list(range(0,100)), np.vectorize(lambda x: math.sqrt(x))(out[:][2]), color='orange', linestyle='--', label=r'$\\omega_{2}$')\n",
    "ax.plot(list(range(0,100)), np.vectorize(lambda x: math.sqrt(x))(out[:][3]), color='blue', linestyle='--', label=r'$\\omega_{3}$')\n",
    "ax.set_title(f'Roll Torque (??)')\n",
    "ax.legend()\n",
    "ax.grid(True)\n",
    "\n",
    "## Scenario 3 - Pitch Torque from [-1.475, 1.475] with mg thrust (hover)\n",
    "ctl = np.array([0, 0, 1, 0]).reshape((4,1))@np.linspace(-1.475,1.475,100).reshape((1,100))\n",
    "ctl[0,:] = mass*9.8\n",
    "out = allocation@ctl\n",
    "\n",
    "ax = fig.add_subplot(gs[2,0])\n",
    "ax.plot(list(range(0,100)), np.vectorize(lambda x: math.sqrt(x))(out[:][0]), color='red', linestyle='--', label=r'$\\omega_{0}$')\n",
    "ax.plot(list(range(0,100)), np.vectorize(lambda x: math.sqrt(x))(out[:][1]), color='green', linestyle='dashdot', label=r'$\\omega_{1}$')\n",
    "ax.plot(list(range(0,100)), np.vectorize(lambda x: math.sqrt(x))(out[:][2]), color='orange', linestyle='--', label=r'$\\omega_{2}$')\n",
    "ax.plot(list(range(0,100)), np.vectorize(lambda x: math.sqrt(x))(out[:][3]), color='blue', linestyle='--', label=r'$\\omega_{3}$')\n",
    "ax.set_title(f'Pitch Torque (??)')\n",
    "ax.legend()\n",
    "ax.grid(True)\n",
    "\n",
    "## Scenario 4 - Pitch Torque from [-0.0196, 0.0196] with mg thrust (hover)\n",
    "ctl = np.array([0, 0, 0, 1]).reshape((4,1))@np.linspace(-0.0196,0.0196,100).reshape((1,100))\n",
    "ctl[0,:] = mass*9.8\n",
    "out = allocation@ctl\n",
    "\n",
    "ax = fig.add_subplot(gs[3,0])\n",
    "ax.plot(list(range(0,100)), np.vectorize(lambda x: math.sqrt(x))(out[:][0]), color='red', linestyle='--', label=r'$\\omega_{0}$')\n",
    "ax.plot(list(range(0,100)), np.vectorize(lambda x: math.sqrt(x))(out[:][1]), color='green', linestyle='dashdot', label=r'$\\omega_{1}$')\n",
    "ax.plot(list(range(0,100)), np.vectorize(lambda x: math.sqrt(x))(out[:][2]), color='orange', linestyle='--', label=r'$\\omega_{2}$')\n",
    "ax.plot(list(range(0,100)), np.vectorize(lambda x: math.sqrt(x))(out[:][3]), color='blue', linestyle='--', label=r'$\\omega_{3}$')\n",
    "ax.set_title(f'Yaw Torque (??)')\n",
    "ax.legend()\n",
    "ax.grid(True)\n",
    "\n"
   ]
  },
  {
   "cell_type": "markdown",
   "id": "ad5ffb4e-c609-46de-9320-5a9c7f2cc987",
   "metadata": {},
   "source": [
    "## Input Constraints\n",
    "Having estimating kt, we can now estimate the thrust and angle torques\n",
    "\n",
    "$$F_{max}=4k_{t}\\omega_{max}^{2}$$\n",
    "$$\\tau_{x,max}=2L_{y}k_{t}\\omega_{max}^{2}$$\n",
    "$$\\tau_{y,max}=2L_{y}k_{t}\\omega_{max}^{2}$$"
   ]
  },
  {
   "cell_type": "code",
   "execution_count": 23,
   "id": "2e220261-9e89-4d01-8dff-d7e27ea48e22",
   "metadata": {},
   "outputs": [
    {
     "name": "stdout",
     "output_type": "stream",
     "text": [
      "F_max: 29.659000000000002, tau_x_max: 1.927835, tau_y_max: 2.9659\n"
     ]
    }
   ],
   "source": [
    "f_max = 4*kt_est*1900*1900\n",
    "tau_x_max = 2*ylen*kt_est*1900*1900\n",
    "tau_y_max = 2*xlen*kt_est*1900*1900\n",
    "print(f'F_max: {f_max}, tau_x_max: {tau_x_max}, tau_y_max: {tau_y_max}')"
   ]
  },
  {
   "cell_type": "code",
   "execution_count": null,
   "id": "87b4ed0d-00dc-4e24-a039-b4802986c2f2",
   "metadata": {},
   "outputs": [],
   "source": []
  }
 ],
 "metadata": {
  "kernelspec": {
   "display_name": "Python 3 (ipykernel)",
   "language": "python",
   "name": "python3"
  },
  "language_info": {
   "codemirror_mode": {
    "name": "ipython",
    "version": 3
   },
   "file_extension": ".py",
   "mimetype": "text/x-python",
   "name": "python",
   "nbconvert_exporter": "python",
   "pygments_lexer": "ipython3",
   "version": "3.12.3"
  }
 },
 "nbformat": 4,
 "nbformat_minor": 5
}
