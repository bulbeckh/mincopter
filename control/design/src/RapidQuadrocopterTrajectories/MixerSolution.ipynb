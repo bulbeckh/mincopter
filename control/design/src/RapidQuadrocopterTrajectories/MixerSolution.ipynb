{
 "cells": [
  {
   "cell_type": "code",
   "execution_count": 23,
   "id": "c7eef55e-3936-4c3b-a480-27b234511b28",
   "metadata": {},
   "outputs": [],
   "source": [
    "import numpy as np\n",
    "import math\n",
    "from matplotlib import pyplot as plt"
   ]
  },
  {
   "cell_type": "markdown",
   "id": "05f8c601-f984-49f4-bc2a-95a4b8c56985",
   "metadata": {},
   "source": [
    "### Configuration of Motor Allocation Matrix\n",
    "\n",
    "$$ \\begin{bmatrix}\n",
    "T \\\\\n",
    "T_{\\phi} \\\\\n",
    "T_{\\theta} \\\\\n",
    "T_{\\psi}\n",
    "\\end{bmatrix} =\n",
    "\\begin{bmatrix}\n",
    "k_{t} & k_{t} & k_{t} & k_{t} \\\\\n",
    "temp & temp\n",
    "\\end{bmatrix}\n",
    "\\begin{bmatrix}\n",
    "\\omega^{2}_{0} \\\\\n",
    "\\omega^{2}_{1} \\\\\n",
    "\\omega^{2}_{2} \\\\\n",
    "\\omega^{2}_{3} \\\\\n",
    "\\end{bmatrix}\n",
    "$$\n",
    "\n",
    "xx"
   ]
  },
  {
   "cell_type": "code",
   "execution_count": 2,
   "id": "06559f1d-a172-425e-b884-643eb794ace9",
   "metadata": {},
   "outputs": [],
   "source": [
    "m = 1  # kg\n",
    "g = 9.8  # m/s^2\n",
    "Ix, Iy, Iz = 0.11, 0.11, 0.04  # kg m^2\n",
    "l = 0.2  # m (this drops out when controlling via torques)"
   ]
  },
  {
   "cell_type": "code",
   "execution_count": 5,
   "id": "715b3c83-bc40-498f-8b31-fe1b2aab7b10",
   "metadata": {},
   "outputs": [
    {
     "name": "stdout",
     "output_type": "stream",
     "text": [
      "RAD 0.9944211062037129\n",
      "DEG 56.97613244420336\n"
     ]
    }
   ],
   "source": [
    "l = math.sqrt(0.13*0.13+0.2*0.2)\n",
    "ang_rad = math.atan(0.2/0.13)\n",
    "print(\"RAD\",ang_rad)\n",
    "print(\"DEG\",ang_rad*180/math.pi)"
   ]
  },
  {
   "cell_type": "code",
   "execution_count": 6,
   "id": "54385e7c-20b8-46b1-b0b1-9e9c1ba0f5cf",
   "metadata": {},
   "outputs": [
    {
     "data": {
      "text/plain": [
       "array([[   83333.33333333, -1282051.28205128,   833333.33333333,\n",
       "           83333.33333333],\n",
       "       [   83333.33333333,  1282051.28205128,  -833333.33333333,\n",
       "           83333.33333333],\n",
       "       [   83333.33333333, -1282051.28205128,  -833333.33333333,\n",
       "           83333.33333333],\n",
       "       [   83333.33333333,  1282051.28205128,   833333.33333333,\n",
       "           83333.33333333]])"
      ]
     },
     "execution_count": 6,
     "metadata": {},
     "output_type": "execute_result"
    }
   ],
   "source": [
    "ylen = 0.13\n",
    "xlen = 0.2\n",
    "kt = 1.5e-6\n",
    "km = 1.5e-6\n",
    "preinv = np.array([[kt, kt, kt, kt],\n",
    "                  [-ylen*kt, ylen*kt, -ylen*kt, ylen*kt],\n",
    "                  [xlen*kt, -xlen*kt, -xlen*kt, xlen*kt],\n",
    "                  [km, km, km, km]])\n",
    "\n",
    "#np.linalg.inv(preinv)\n",
    "np.linalg.pinv(preinv)"
   ]
  },
  {
   "cell_type": "code",
   "execution_count": 7,
   "id": "6598e387-8bb8-4dd9-8f9c-859ca7e87eb4",
   "metadata": {},
   "outputs": [
    {
     "name": "stdout",
     "output_type": "stream",
     "text": [
      "0.04614774000000001\n"
     ]
    }
   ],
   "source": [
    "## According to gazebo sim, max RPM is 838 which is ~87.7 rad/s\n",
    "\n",
    "## With a kt of 1.5e-6, that gives a max force of\n",
    "F_max = kt*(87.7*87.7)\n",
    "print(F_max*4)"
   ]
  },
  {
   "cell_type": "code",
   "execution_count": 8,
   "id": "d9a9ffe9-dc6a-4002-b213-fe34bbece856",
   "metadata": {},
   "outputs": [
    {
     "name": "stdout",
     "output_type": "stream",
     "text": [
      "Motor force est:  7.414750000000001\n",
      "1150.679147286506\n"
     ]
    }
   ],
   "source": [
    "## In order to try and identify the maximum thrust generated with a max PWM signal (1900), we set all outputs to 1900PWM\n",
    "\n",
    "zvel_delta = 1.75\n",
    "sec_delta = 0.5\n",
    "mass=2.23 ## including gimbal\n",
    "#kt = 1.5e-6\n",
    "kt = 5.6e-6\n",
    "\n",
    "est_force = (0.25)*(mass*zvel_delta/sec_delta + mass*9.8)\n",
    "print(\"Motor force est: \", est_force)\n",
    "\n",
    "## This gives 189N of thrust for each motor at 1900PWM (which is proportional to motor_speed)\n",
    "\n",
    "## 189 = kt*(wt^2)\n",
    "\n",
    "print(math.sqrt(est_force/kt))\n",
    "\n",
    "## So 1900PWM ~ 11224.97 (\\omega)\n"
   ]
  },
  {
   "cell_type": "code",
   "execution_count": 9,
   "id": "a900e0c5-f00c-479a-b2d6-0681bdf8d825",
   "metadata": {},
   "outputs": [
    {
     "name": "stdout",
     "output_type": "stream",
     "text": [
      "5.415\n"
     ]
    }
   ],
   "source": [
    "## Apparently in the **ardupilot_gazebo** plugin, the rotor velocity is set directly to the PWM\n",
    "## so with a PWM of 1900 the force is as follows\n",
    "kt=1.5e-6\n",
    "PWM=1900\n",
    "F = kt*PWM*PWM\n",
    "print(F)"
   ]
  },
  {
   "cell_type": "code",
   "execution_count": 10,
   "id": "d451bb59-9fa3-4bc6-b8ec-4e7aa19a23d5",
   "metadata": {},
   "outputs": [
    {
     "name": "stdout",
     "output_type": "stream",
     "text": [
      "2.0539473684210527e-06\n"
     ]
    }
   ],
   "source": [
    "mass=2.23\n",
    "kt_est = 0.25*(1/(PWM*PWM))*mass*(9.8+3.5)\n",
    "print(kt_est)"
   ]
  },
  {
   "cell_type": "code",
   "execution_count": 11,
   "id": "ad468e8d-b608-4b96-8b98-1c92f65fd68a",
   "metadata": {},
   "outputs": [
    {
     "data": {
      "text/plain": [
       "array([[ 121429.01301414, -936283.44749421,  608584.24087124,\n",
       "           5911.9826964 ],\n",
       "       [ 121429.01301414,  936283.44749421, -608584.24087124,\n",
       "           5911.9826964 ],\n",
       "       [ 121429.01301414, -936283.44749421, -608584.24087124,\n",
       "           5911.9826964 ],\n",
       "       [ 121429.01301414,  936283.44749421,  608584.24087124,\n",
       "           5911.9826964 ]])"
      ]
     },
     "execution_count": 11,
     "metadata": {},
     "output_type": "execute_result"
    }
   ],
   "source": [
    "## Recompute with updated kt estimate\n",
    "ylen = 0.13\n",
    "xlen = 0.2\n",
    "km = 1e-7 ## NOTE Probably wrong\n",
    "kt = kt_est\n",
    "preinv = np.array([[kt, kt, kt, kt],\n",
    "                  [-ylen*kt, ylen*kt, -ylen*kt, ylen*kt],\n",
    "                  [xlen*kt, -xlen*kt, -xlen*kt, xlen*kt],\n",
    "                  [km, km, km, km]])\n",
    "\n",
    "#np.linalg.inv(preinv)\n",
    "np.linalg.pinv(preinv)"
   ]
  },
  {
   "cell_type": "markdown",
   "id": "33588172-9981-4303-97f4-c3d52c04db8a",
   "metadata": {},
   "source": [
    "$$k_{t}=\\frac{1}{4\\omega^{2}}m(a+g)$$\n",
    "$$\\omega=\\sqrt{\\frac{1}{4k_{t}}m(a+g)}$$\n",
    "With kt=2.05e-6, for hover thrust (a=0), we need the following rotor speed"
   ]
  },
  {
   "cell_type": "code",
   "execution_count": 24,
   "id": "d7b65c45-284b-4338-b05d-1e689b13e0a9",
   "metadata": {},
   "outputs": [
    {
     "name": "stdout",
     "output_type": "stream",
     "text": [
      "1632.5201227609762\n"
     ]
    }
   ],
   "source": [
    "kt_final = 2.05e-6\n",
    "hover_w = math.sqrt((1/(4*kt_final))*mass*9.8)\n",
    "print(hover_w)"
   ]
  },
  {
   "cell_type": "code",
   "execution_count": 39,
   "id": "f9291791-4909-4f81-9cdb-8e3f5f0d01ee",
   "metadata": {},
   "outputs": [
    {
     "data": {
      "image/png": "[encoded data removed]",
      "text/plain": [
       "<Figure size 640x480 with 1 Axes>"
      ]
     },
     "metadata": {},
     "output_type": "display_data"
    }
   ],
   "source": [
    "## Graph of rotor speed and acceleration\n",
    "\n",
    "x = [i for i in range(1600,1900)]\n",
    "y = [max(0,4*kt_final*i*i*(1/mass)-9.8) for i in range(1600,1900)]\n",
    "plt.plot(x,y)\n",
    "plt.grid(True)\n",
    "plt.title('Rotor Speed vs Accel (m/s2 - zaxis)')\n",
    "plt.vlines(hover_w,0,4, color='red', linestyle='--')\n",
    "plt.show()"
   ]
  },
  {
   "cell_type": "code",
   "execution_count": null,
   "id": "273fc370-9709-4e6e-b43a-6db530920401",
   "metadata": {},
   "outputs": [],
   "source": []
  }
 ],
 "metadata": {
  "kernelspec": {
   "display_name": "Python 3 (ipykernel)",
   "language": "python",
   "name": "python3"
  },
  "language_info": {
   "codemirror_mode": {
    "name": "ipython",
    "version": 3
   },
   "file_extension": ".py",
   "mimetype": "text/x-python",
   "name": "python",
   "nbconvert_exporter": "python",
   "pygments_lexer": "ipython3",
   "version": "3.12.3"
  }
 },
 "nbformat": 4,
 "nbformat_minor": 5
}
