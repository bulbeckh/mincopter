{
 "cells": [
  {
   "cell_type": "markdown",
   "id": "987dfeb4-9e98-43ae-b30b-105abe3e4ab8",
   "metadata": {},
   "source": [
    "$$F_{t}= \\sum{}k_{t}\\omega_{i}^{2}$$\n",
    "$$ \\omega_{i}=\\sqrt{\\frac{F_{t}}{4k_{t}}}$$"
   ]
  },
  {
   "cell_type": "code",
   "execution_count": 6,
   "id": "2350cbe3-a9f4-47df-9934-4c5ae7c4d7af",
   "metadata": {},
   "outputs": [
    {
     "name": "stdout",
     "output_type": "stream",
     "text": [
      "2.05e-05\n"
     ]
    }
   ],
   "source": [
    "import math\n",
    "kt = 2.05e-5\n",
    "print(kt)"
   ]
  },
  {
   "cell_type": "code",
   "execution_count": 11,
   "id": "5c64f13c-ce3b-416d-abdb-2bad87ffee7c",
   "metadata": {},
   "outputs": [
    {
     "name": "stdout",
     "output_type": "stream",
     "text": [
      "At hover (mg) force, and kt=2.05e-05 we need omega=: 539.1762 rad/s\n"
     ]
    }
   ],
   "source": [
    "mass = 2.43\n",
    "g = 9.81\n",
    "print(f\"At hover (mg) force, and kt={kt} we need omega=: {math.sqrt(mass*g/(4*kt)):6.4f} rad/s\")"
   ]
  },
  {
   "cell_type": "code",
   "execution_count": null,
   "id": "4e7e6b96-d22a-4d54-9c2a-396311be1649",
   "metadata": {},
   "outputs": [],
   "source": []
  }
 ],
 "metadata": {
  "kernelspec": {
   "display_name": "Python 3 (ipykernel)",
   "language": "python",
   "name": "python3"
  },
  "language_info": {
   "codemirror_mode": {
    "name": "ipython",
    "version": 3
   },
   "file_extension": ".py",
   "mimetype": "text/x-python",
   "name": "python",
   "nbconvert_exporter": "python",
   "pygments_lexer": "ipython3",
   "version": "3.12.3"
  }
 },
 "nbformat": 4,
 "nbformat_minor": 5
}
