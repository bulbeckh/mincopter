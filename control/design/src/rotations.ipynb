{
 "cells": [
  {
   "cell_type": "code",
   "execution_count": 2,
   "id": "bac97bc9-0b9a-4a01-8265-1aa3898d9a4d",
   "metadata": {},
   "outputs": [],
   "source": [
    "import casadi as ca\n",
    "import numpy as np\n",
    "import math"
   ]
  },
  {
   "cell_type": "code",
   "execution_count": 3,
   "id": "bc405e8f-c553-4731-9f3c-cce82ad12015",
   "metadata": {},
   "outputs": [
    {
     "name": "stdout",
     "output_type": "stream",
     "text": [
      "ROLL \n",
      "[[1, 00, 00], \n",
      " [00, cos(roll), (-sin(roll))], \n",
      " [00, sin(roll), cos(roll)]]\n",
      "PITCH \n",
      "[[cos(pitch), 00, sin(pitch)], \n",
      " [00, 1, 00], \n",
      " [(-sin(pitch)), 00, cos(pitch)]]\n",
      "YAW \n",
      "[[cos(yaw), (-sin(yaw)), 00], \n",
      " [sin(yaw), cos(yaw), 00], \n",
      " [00, 00, 1]]\n",
      "Y-P-R\n",
      "(cos(yaw)*cos(pitch)) , (((cos(yaw)*sin(pitch))*sin(roll))-(sin(yaw)*cos(roll))) , ((sin(yaw)*sin(roll))+((cos(yaw)*sin(pitch))*cos(roll))) , \n",
      "(sin(yaw)*cos(pitch)) , ((cos(yaw)*cos(roll))+((sin(yaw)*sin(pitch))*sin(roll))) , (((sin(yaw)*sin(pitch))*cos(roll))-(cos(yaw)*sin(roll))) , \n",
      "(-sin(pitch)) , (cos(pitch)*sin(roll)) , (cos(pitch)*cos(roll)) , \n",
      "\n",
      "[[0.367724, -0.190809, 0.910149], \n",
      " [0.0714783, 0.981627, 0.176915], \n",
      " [-0.927184, 00, 0.374607]]\n"
     ]
    }
   ],
   "source": [
    "roll = ca.SX.sym('roll')\n",
    "pitch = ca.SX.sym('pitch')\n",
    "yaw = ca.SX.sym('yaw')\n",
    "\n",
    "r_roll = ca.SX_eye(3)\n",
    "r_roll[1:,1:] = np.array([[ca.cos(roll), -ca.sin(roll)],\n",
    "                 [ca.sin(roll), ca.cos(roll)]])\n",
    "r_pitch = ca.SX_eye(3)\n",
    "r_pitch[[0,2],[0,2]] = np.array([[ca.cos(pitch), ca.sin(pitch)],\n",
    "                 [-ca.sin(pitch), ca.cos(pitch)]])\n",
    "r_yaw = ca.SX_eye(3)\n",
    "r_yaw[:2,:2] = np.array([[ca.cos(yaw), -ca.sin(yaw)],\n",
    "                 [ca.sin(yaw), ca.cos(yaw)]])\n",
    "\n",
    "print(\"ROLL\", r_roll)\n",
    "print(\"PITCH\", r_pitch)\n",
    "print(\"YAW\", r_yaw)\n",
    "\n",
    "R = (r_yaw @ r_pitch @ r_roll)\n",
    "print(\"Y-P-R\")\n",
    "for i in range(0,3):\n",
    "    for j in range(0,3):\n",
    "        print(R[i, j],end=' , ')\n",
    "    print()\n",
    "\n",
    "print(ca.Function('rot', [yaw, pitch], [r_yaw @ r_pitch])(11*math.pi/180, 68*math.pi/180))\n"
   ]
  },
  {
   "cell_type": "code",
   "execution_count": null,
   "id": "e77a9424-bd36-4893-a3a6-ff8a139e48d1",
   "metadata": {},
   "outputs": [],
   "source": []
  }
 ],
 "metadata": {
  "kernelspec": {
   "display_name": "Python 3 (ipykernel)",
   "language": "python",
   "name": "python3"
  },
  "language_info": {
   "codemirror_mode": {
    "name": "ipython",
    "version": 3
   },
   "file_extension": ".py",
   "mimetype": "text/x-python",
   "name": "python",
   "nbconvert_exporter": "python",
   "pygments_lexer": "ipython3",
   "version": "3.12.3"
  }
 },
 "nbformat": 4,
 "nbformat_minor": 5
}
