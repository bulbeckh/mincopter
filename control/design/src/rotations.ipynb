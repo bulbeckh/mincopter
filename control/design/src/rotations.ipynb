{
 "cells": [
  {
   "cell_type": "code",
   "execution_count": 2,
   "id": "bac97bc9-0b9a-4a01-8265-1aa3898d9a4d",
   "metadata": {},
   "outputs": [],
   "source": [
    "import casadi as ca\n",
    "import numpy as np\n",
    "import math"
   ]
  },
  {
   "cell_type": "code",
   "execution_count": 3,
   "id": "bc405e8f-c553-4731-9f3c-cce82ad12015",
   "metadata": {},
   "outputs": [
    {
     "name": "stdout",
     "output_type": "stream",
     "text": [
      "ROLL \n",
      "[[1, 00, 00], \n",
      " [00, cos(roll), (-sin(roll))], \n",
      " [00, sin(roll), cos(roll)]]\n",
      "PITCH \n",
      "[[cos(pitch), 00, sin(pitch)], \n",
      " [00, 1, 00], \n",
      " [(-sin(pitch)), 00, cos(pitch)]]\n",
      "YAW \n",
      "[[cos(yaw), (-sin(yaw)), 00], \n",
      " [sin(yaw), cos(yaw), 00], \n",
      " [00, 00, 1]]\n",
      "Y-P-R\n",
      "(cos(yaw)*cos(pitch)) , (((cos(yaw)*sin(pitch))*sin(roll))-(sin(yaw)*cos(roll))) , ((sin(yaw)*sin(roll))+((cos(yaw)*sin(pitch))*cos(roll))) , \n",
      "(sin(yaw)*cos(pitch)) , ((cos(yaw)*cos(roll))+((sin(yaw)*sin(pitch))*sin(roll))) , (((sin(yaw)*sin(pitch))*cos(roll))-(cos(yaw)*sin(roll))) , \n",
      "(-sin(pitch)) , (cos(pitch)*sin(roll)) , (cos(pitch)*cos(roll)) , \n",
      "\n",
      "[[0.367724, -0.190809, 0.910149], \n",
      " [0.0714783, 0.981627, 0.176915], \n",
      " [-0.927184, 00, 0.374607]]\n"
     ]
    }
   ],
   "source": [
    "roll = ca.SX.sym('roll')\n",
    "pitch = ca.SX.sym('pitch')\n",
    "yaw = ca.SX.sym('yaw')\n",
    "\n",
    "r_roll = ca.SX_eye(3)\n",
    "r_roll[1:,1:] = np.array([[ca.cos(roll), -ca.sin(roll)],\n",
    "                 [ca.sin(roll), ca.cos(roll)]])\n",
    "r_pitch = ca.SX_eye(3)\n",
    "r_pitch[[0,2],[0,2]] = np.array([[ca.cos(pitch), ca.sin(pitch)],\n",
    "                 [-ca.sin(pitch), ca.cos(pitch)]])\n",
    "r_yaw = ca.SX_eye(3)\n",
    "r_yaw[:2,:2] = np.array([[ca.cos(yaw), -ca.sin(yaw)],\n",
    "                 [ca.sin(yaw), ca.cos(yaw)]])\n",
    "\n",
    "print(\"ROLL\", r_roll)\n",
    "print(\"PITCH\", r_pitch)\n",
    "print(\"YAW\", r_yaw)\n",
    "\n",
    "R = (r_yaw @ r_pitch @ r_roll)\n",
    "print(\"Y-P-R\")\n",
    "for i in range(0,3):\n",
    "    for j in range(0,3):\n",
    "        print(R[i, j],end=' , ')\n",
    "    print()\n",
    "\n",
    "print(ca.Function('rot', [yaw, pitch], [r_yaw @ r_pitch])(11*math.pi/180, 68*math.pi/180))\n"
   ]
  },
  {
   "cell_type": "code",
   "execution_count": 15,
   "id": "e77a9424-bd36-4893-a3a6-ff8a139e48d1",
   "metadata": {},
   "outputs": [
    {
     "name": "stdout",
     "output_type": "stream",
     "text": [
      "Correction : Intrinsic P-R\n",
      "cos(pitch) , (sin(pitch)*sin(roll)) , (sin(pitch)*cos(roll)) , \n",
      "00 , cos(roll) , (-sin(roll)) , \n",
      "(-sin(pitch)) , (cos(pitch)*sin(roll)) , (cos(pitch)*cos(roll)) , \n"
     ]
    }
   ],
   "source": [
    "## For magnetometer measurement correction\n",
    "print(\"Correction : Intrinsic P-R\")\n",
    "R = r_pitch @ r_roll\n",
    "for i in range(0,3):\n",
    "    for j in range(0,3):\n",
    "        print(R[i, j],end=' , ')\n",
    "    print()\n"
   ]
  },
  {
   "cell_type": "markdown",
   "id": "af6efc41-3f62-4b49-a49a-71680cfe7ffa",
   "metadata": {},
   "source": [
    "For our complementary filter we use an intrinsic Y-P-R sequence, meaning from the inertial frame we first rotate by a yaw angle $\\psi$ then by a pitch angles $\\theta$ then by a roll angle $\\phi$ giving our rotation from inertial to body as $${}^{I}R_{B}=R_{\\psi}R_{\\theta}R_{\\phi}$$\n",
    "$$R=\\begin{bmatrix}\n",
    "\\cos{\\psi} & -\\sin{\\psi} & 0 \\\\\n",
    "\\sin{\\psi} & \\cos{\\psi} & 0 \\\\\n",
    "0 & 0 & 1 \\\\\n",
    "\\end{bmatrix}\n",
    "\\begin{bmatrix}\n",
    "\\cos{\\theta} & 0 & \\sin{\\theta} \\\\\n",
    "0 & 1 & 0 \\\\\n",
    "-\\sin{\\theta} & 0 & \\cos{\\theta} \\\\\n",
    "\\end{bmatrix}\n",
    "\\begin{bmatrix}\n",
    "1 & 0 & 0 \\\\\n",
    "0 & \\cos{\\phi} & -\\sin{\\phi} \\\\\n",
    "0 & \\sin{\\phi} & \\cos{\\phi}\n",
    "\\end{bmatrix}$$\n",
    "\n",
    "Assuming no yaw ($\\psi=0$), we know our tilt is defined as:\n",
    "$$\\begin{bmatrix}\n",
    "0 \\\\\n",
    "0 \\\\\n",
    "-g \\\\\n",
    "\\end{bmatrix}=\n",
    "\\begin{bmatrix}\n",
    "\\cos{\\theta} & \\sin{\\theta}\\sin{\\phi} & \\sin{\\theta}\\cos{\\phi} \\\\\n",
    "0 & \\cos{\\phi} & -\\sin{\\phi} \\\\\n",
    "-\\sin{\\theta} & \\cos{\\theta}\\sin{\\phi} & \\cos{\\theta}\\cos{\\phi} \\\\\n",
    "\\end{bmatrix}\n",
    "\\begin{bmatrix}\n",
    "a_{x} \\\\\n",
    "a_{y} \\\\\n",
    "a_{z} \\\\\n",
    "\\end{bmatrix}\n",
    "$$\n",
    "\n",
    "TODO Add computation of roll,pitch accelerometer equations\n",
    "\n",
    "Again, we can re-use the roll/pitch rotation to transform our body-frame magnetometer reading into a 'yaw-only' frame with x and y axes aligned to the NED frame X-Y plane\n",
    "$$\\begin{align}\n",
    "\\begin{bmatrix}\n",
    "m_{x,comp} \\\\\n",
    "m_{y,comp} \\\\\n",
    "m_{z,comp} \\\\\n",
    "\\end{bmatrix}&=\n",
    "\\begin{bmatrix}\n",
    "\\cos{\\theta} & \\sin{\\theta}\\sin{\\phi} & \\sin{\\theta}\\cos{\\phi} \\\\\n",
    "0 & \\cos{\\phi} & -\\sin{\\phi} \\\\\n",
    "-\\sin{\\theta} & \\cos{\\theta}\\sin{\\phi} & \\cos{\\theta}\\cos{\\phi} \\\\\n",
    "\\end{bmatrix}\n",
    "\\begin{bmatrix}\n",
    "m_{x} \\\\\n",
    "m_{y} \\\\\n",
    "m_{z} \\\\\n",
    "\\end{bmatrix} \\\\\n",
    "&=\\begin{bmatrix}\n",
    "m_{x}\\cos{\\theta} + m_{y}\\sin{\\theta}\\sin{\\phi} + m_{z}\\sin{\\theta}\\cos{\\phi} \\\\\n",
    "m_{y}\\cos{\\phi} -m_{z}\\sin{\\phi} \\\\\n",
    "-m_{x}\\sin{\\theta} + m_{y}\\cos{\\theta}\\sin{\\phi} + m_{z}\\cos{\\theta}\\cos{\\phi} \\\\\n",
    "\\end{bmatrix}\n",
    "\\end{align}\n",
    "$$\n",
    "In our 'yaw-only' frame, and ignoring magnetic declination for now, we can relate the magnetic field vector to our (tilt-compensated) reading via\n",
    "$$\n",
    "B_{ref}=\n",
    "\\begin{bmatrix}\n",
    "b_{x} \\\\\n",
    "0 \\\\\n",
    "b_{z}\n",
    "\\end{bmatrix}\n",
    "= \\begin{bmatrix}\n",
    "\\cos{\\psi} & -\\sin{\\psi} & 0 \\\\\n",
    "\\sin{\\psi} & \\cos{\\psi} & 0 \\\\\n",
    "0 & 0 & 1 \\\\\n",
    "\\end{bmatrix}\n",
    "\\begin{bmatrix}\n",
    "m_{x,comp} \\\\\n",
    "m_{y,comp} \\\\\n",
    "m_{z,comp} \\\\\n",
    "\\end{bmatrix}\n",
    "$$\n",
    "Now our $B_{ref}$ vector has x and z components only and hence we can use the second equation to compute yaw\n",
    "$$\\psi=\\text{atan2}(-m_{y,comp},m_{x,comp})$$\n",
    "\n",
    "The last step is to offset this yaw measurement by the magnetic declination for the current location."
   ]
  },
  {
   "cell_type": "code",
   "execution_count": 14,
   "id": "8c7e0b83-48b9-4eb0-a421-e3355b5a2eb8",
   "metadata": {},
   "outputs": [
    {
     "name": "stdout",
     "output_type": "stream",
     "text": [
      "ROLL \n",
      "[[1, 00, 00], \n",
      " [00, cos(roll), (-sin(roll))], \n",
      " [00, sin(roll), cos(roll)]]\n",
      "PITCH \n",
      "[[cos(pitch), 00, sin(pitch)], \n",
      " [00, 1, 00], \n",
      " [(-sin(pitch)), 00, cos(pitch)]]\n",
      "YAW \n",
      "[[cos(yaw), (-sin(yaw)), 00], \n",
      " [sin(yaw), cos(yaw), 00], \n",
      " [00, 00, 1]]\n",
      "@1=sin(pitch), @2=sin(roll), @3=cos(pitch), @4=cos(roll), \n",
      "[[cos(pitch), (@1*@2), (@1*@4)], \n",
      " [00, cos(roll), (-sin(roll))], \n",
      " [(-sin(pitch)), (@3*@2), (@3*@4)]]\n"
     ]
    }
   ],
   "source": [
    "roll = ca.SX.sym('roll')\n",
    "pitch = ca.SX.sym('pitch')\n",
    "yaw = ca.SX.sym('yaw')\n",
    "\n",
    "r_roll = ca.SX_eye(3)\n",
    "r_roll[1:,1:] = np.array([[ca.cos(roll), -ca.sin(roll)],\n",
    "                 [ca.sin(roll), ca.cos(roll)]])\n",
    "r_pitch = ca.SX_eye(3)\n",
    "r_pitch[[0,2],[0,2]] = np.array([[ca.cos(pitch), ca.sin(pitch)],\n",
    "                 [-ca.sin(pitch), ca.cos(pitch)]])\n",
    "r_yaw = ca.SX_eye(3)\n",
    "r_yaw[:2,:2] = np.array([[ca.cos(yaw), -ca.sin(yaw)],\n",
    "                 [ca.sin(yaw), ca.cos(yaw)]])\n",
    "\n",
    "print(\"ROLL\", r_roll)\n",
    "print(\"PITCH\", r_pitch)\n",
    "print(\"YAW\", r_yaw)\n",
    "\n",
    "print(r_pitch @ r_roll)"
   ]
  },
  {
   "cell_type": "markdown",
   "id": "2bd5aa20-4c75-4292-a182-aa586851c3dc",
   "metadata": {},
   "source": [
    "Our accelerometer reading is taken in the body frame. In this frame, we can use the accelerometer y and z readings to calculate the roll.\n",
    "$$\\phi_{a}=\\text{atan2f}(-a_{y}, -a_{z})$$\n",
    "\n",
    "Similarly, we can rotate to the 'pitch' frame by "
   ]
  },
  {
   "cell_type": "code",
   "execution_count": null,
   "id": "fe686187-0db9-4b21-b88a-e936cf9ba140",
   "metadata": {},
   "outputs": [],
   "source": []
  }
 ],
 "metadata": {
  "kernelspec": {
   "display_name": "Python 3 (ipykernel)",
   "language": "python",
   "name": "python3"
  },
  "language_info": {
   "codemirror_mode": {
    "name": "ipython",
    "version": 3
   },
   "file_extension": ".py",
   "mimetype": "text/x-python",
   "name": "python",
   "nbconvert_exporter": "python",
   "pygments_lexer": "ipython3",
   "version": "3.12.3"
  }
 },
 "nbformat": 4,
 "nbformat_minor": 5
}
