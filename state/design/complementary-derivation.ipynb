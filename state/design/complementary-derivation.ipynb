{
 "cells": [
  {
   "cell_type": "markdown",
   "id": "f5001ada-8054-49bf-9d2b-4a6cf2fc26f4",
   "metadata": {},
   "source": [
    "### Magnetometer\n",
    "If we define $R$ as a rotation matrix from inertial (NED) to body, then we have $$M_B = R^{T}M_G$$ We know that the global magnetic field $M_G$ will be $$M_G=R_\\text{offset}\n",
    "\\begin{bmatrix}\n",
    "1 \\\\\n",
    "0 \\\\ \n",
    "0\n",
    "\\end{bmatrix}\n",
    "$$\n",
    "Assuming the euler angles are **extrinsic** in $R$, we define the order of rotation as $$R=R_{\\psi}R_{\\theta}R_{\\phi}$$ with $$\\text{Roll}=\\phi, \\text{Pitch}=\\theta, \\text{Yaw}=\\psi$$\n",
    "Finally $$R^{T} = R_{\\phi}^{T}R_{\\theta}^{T}R_{\\psi}^{T}$$\n",
    "\n",
    "### Accelerometer\n",
    "Similarly, $$A_B = R^{T}A_G$$ with the gravity vector pointing upward in the NED frame $$A_G=\\begin{bmatrix} 0 \\\\ 0 \\\\ -g \\end{bmatrix}$$ This gives us $$\\begin{bmatrix} a_x \\\\ a_y \\\\ a_z \\end{bmatrix} = \\begin{bmatrix} g\\sin{\\theta} \\\\ -g\\sin{\\phi}\\cos{\\theta} \\\\ -g\\cos{\\phi}\\cos{\\theta} \\end{bmatrix}$$ and therefore $$\\theta = \\sin^{-1}{(\\frac{a_x}{g})}$$ and $$\\phi = \\tan^{-1}{(\\frac{a_y}{a_z})}$$"
   ]
  },
  {
   "cell_type": "code",
   "execution_count": 3,
   "id": "700ee3e2-0cee-4da5-aa04-8118aa6362e1",
   "metadata": {},
   "outputs": [],
   "source": [
    "import casadi as ca\n",
    "import numpy as np\n",
    "import math"
   ]
  },
  {
   "cell_type": "code",
   "execution_count": 41,
   "id": "d8d45812-4b2b-4e26-bf60-580fbbf3d6d7",
   "metadata": {},
   "outputs": [
    {
     "name": "stdout",
     "output_type": "stream",
     "text": [
      "ROLL \n",
      "[[1, 00, 00], \n",
      " [00, cos(roll), (-sin(roll))], \n",
      " [00, sin(roll), cos(roll)]]\n",
      "PITCH \n",
      "[[cos(pitch), 00, sin(pitch)], \n",
      " [00, 1, 00], \n",
      " [(-sin(pitch)), 00, cos(pitch)]]\n",
      "YAW \n",
      "[[cos(yaw), (-sin(yaw)), 00], \n",
      " [sin(yaw), cos(yaw), 00], \n",
      " [00, 00, 1]]\n"
     ]
    }
   ],
   "source": [
    "roll = ca.SX.sym('roll')\n",
    "pitch = ca.SX.sym('pitch')\n",
    "yaw = ca.SX.sym('yaw')\n",
    "\n",
    "r_roll = ca.SX_eye(3)\n",
    "r_roll[1:,1:] = np.array([[ca.cos(roll), -ca.sin(roll)],\n",
    "                 [ca.sin(roll), ca.cos(roll)]])\n",
    "r_pitch = ca.SX_eye(3)\n",
    "r_pitch[[0,2],[0,2]] = np.array([[ca.cos(pitch), ca.sin(pitch)],\n",
    "                 [-ca.sin(pitch), ca.cos(pitch)]])\n",
    "r_yaw = ca.SX_eye(3)\n",
    "r_yaw[:2,:2] = np.array([[ca.cos(yaw), -ca.sin(yaw)],\n",
    "                 [ca.sin(yaw), ca.cos(yaw)]])\n",
    "\n",
    "print(\"ROLL\", r_roll)\n",
    "print(\"PITCH\", r_pitch)\n",
    "print(\"YAW\", r_yaw)"
   ]
  },
  {
   "cell_type": "code",
   "execution_count": 65,
   "id": "1c6c22cf-7231-4e80-bca1-67aebf29a9a2",
   "metadata": {},
   "outputs": [
    {
     "name": "stdout",
     "output_type": "stream",
     "text": [
      "R.T\n",
      "(cos(pitch)*cos(yaw)),(cos(pitch)*sin(yaw)),(-sin(pitch)),\n",
      "(((sin(roll)*sin(pitch))*cos(yaw))-(cos(roll)*sin(yaw))),(((sin(roll)*sin(pitch))*sin(yaw))+(cos(roll)*cos(yaw))),(sin(roll)*cos(pitch)),\n",
      "(((cos(roll)*sin(pitch))*cos(yaw))+(sin(roll)*sin(yaw))),(((cos(roll)*sin(pitch))*sin(yaw))-(sin(roll)*cos(yaw))),(cos(roll)*cos(pitch)),\n"
     ]
    }
   ],
   "source": [
    "r_t = (r_roll.T @ r_pitch.T @ r_yaw.T)\n",
    "print(\"R.T\")\n",
    "for i in range(0,3):\n",
    "    for j in range(0,3):\n",
    "        print(r_t[i, j],end=',')\n",
    "    print()"
   ]
  },
  {
   "cell_type": "code",
   "execution_count": 58,
   "id": "57437f40-7252-4d6e-9df0-2251246179c2",
   "metadata": {},
   "outputs": [
    {
     "name": "stdout",
     "output_type": "stream",
     "text": [
      "[[ 0.36772402 -0.190809    0.91014888]\n",
      " [ 0.07147831  0.98162718  0.17691502]\n",
      " [-0.92718385  0.          0.37460659]]\n"
     ]
    }
   ],
   "source": [
    "## Compute R_Offset\n",
    "rot_y = np.array([\n",
    "        [math.cos(68*math.pi/180), 0, math.sin(68*math.pi/180)],\n",
    "        [0, 1, 0],\n",
    "        [-math.sin(68*math.pi/180), 0, math.cos(68*math.pi/180)]], dtype=np.float64)\n",
    "\n",
    "## Rotation about z-axis\n",
    "rot_z = np.array([\n",
    "            [math.cos(11*math.pi/180), -math.sin(11*math.pi/180), 0],\n",
    "            [math.sin(11*math.pi/180), math.cos(11*math.pi/180), 0],\n",
    "            [0, 0, 1]], dtype=np.float64)\n",
    "\n",
    "\n",
    "## We rotate extrinsically here\n",
    "print(rot_z @ rot_y)"
   ]
  },
  {
   "cell_type": "code",
   "execution_count": null,
   "id": "d4bbdfa2-71b8-4413-83ff-e61bec9de78d",
   "metadata": {},
   "outputs": [],
   "source": []
  }
 ],
 "metadata": {
  "kernelspec": {
   "display_name": "Python 3 (ipykernel)",
   "language": "python",
   "name": "python3"
  },
  "language_info": {
   "codemirror_mode": {
    "name": "ipython",
    "version": 3
   },
   "file_extension": ".py",
   "mimetype": "text/x-python",
   "name": "python",
   "nbconvert_exporter": "python",
   "pygments_lexer": "ipython3",
   "version": "3.12.3"
  }
 },
 "nbformat": 4,
 "nbformat_minor": 5
}
